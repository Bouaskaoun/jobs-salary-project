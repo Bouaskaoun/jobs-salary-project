{
 "cells": [
  {
   "cell_type": "code",
   "execution_count": 13,
   "metadata": {},
   "outputs": [],
   "source": [
    "import numpy as np\n",
    "import pandas as pd"
   ]
  },
  {
   "cell_type": "code",
   "execution_count": 14,
   "metadata": {},
   "outputs": [],
   "source": [
    "data = pd.read_csv('glassdoor_jobs_data.csv')"
   ]
  },
  {
   "cell_type": "code",
   "execution_count": 15,
   "metadata": {},
   "outputs": [
    {
     "data": {
      "text/html": [
       "<div>\n",
       "<style scoped>\n",
       "    .dataframe tbody tr th:only-of-type {\n",
       "        vertical-align: middle;\n",
       "    }\n",
       "\n",
       "    .dataframe tbody tr th {\n",
       "        vertical-align: top;\n",
       "    }\n",
       "\n",
       "    .dataframe thead th {\n",
       "        text-align: right;\n",
       "    }\n",
       "</style>\n",
       "<table border=\"1\" class=\"dataframe\">\n",
       "  <thead>\n",
       "    <tr style=\"text-align: right;\">\n",
       "      <th></th>\n",
       "      <th>Unnamed: 0</th>\n",
       "      <th>Job Title</th>\n",
       "      <th>Salary Estimate</th>\n",
       "      <th>Job Description</th>\n",
       "      <th>Rating</th>\n",
       "      <th>Company Name</th>\n",
       "      <th>Location</th>\n",
       "      <th>Size</th>\n",
       "      <th>Founded</th>\n",
       "      <th>Type of ownership</th>\n",
       "      <th>Industry</th>\n",
       "      <th>Sector</th>\n",
       "      <th>Revenue</th>\n",
       "    </tr>\n",
       "  </thead>\n",
       "  <tbody>\n",
       "    <tr>\n",
       "      <th>0</th>\n",
       "      <td>0</td>\n",
       "      <td>BHJOB15656_16794 - Data Scientist</td>\n",
       "      <td>$95K - $152K (Employer est.)</td>\n",
       "      <td>The recruitment team here at Myticas is lookin...</td>\n",
       "      <td>3.7</td>\n",
       "      <td>Myticas Consulting\\n3.7</td>\n",
       "      <td>Remote</td>\n",
       "      <td>1 to 50 Employees</td>\n",
       "      <td>NaN</td>\n",
       "      <td>Company - Private</td>\n",
       "      <td>Information Technology Support Services</td>\n",
       "      <td>Information Technology</td>\n",
       "      <td>Unknown / Non-Applicable</td>\n",
       "    </tr>\n",
       "    <tr>\n",
       "      <th>1</th>\n",
       "      <td>1</td>\n",
       "      <td>Data Scientist</td>\n",
       "      <td>$95K - $152K (Employer est.)</td>\n",
       "      <td>*will work ONSITE 2-3 days each week\\nThe data...</td>\n",
       "      <td>NaN</td>\n",
       "      <td>Mint-Technologies</td>\n",
       "      <td>Richmond, VA</td>\n",
       "      <td>1 to 50 Employees</td>\n",
       "      <td>NaN</td>\n",
       "      <td>Company - Private</td>\n",
       "      <td>NaN</td>\n",
       "      <td>NaN</td>\n",
       "      <td>Unknown / Non-Applicable</td>\n",
       "    </tr>\n",
       "    <tr>\n",
       "      <th>2</th>\n",
       "      <td>2</td>\n",
       "      <td>Data Scientist</td>\n",
       "      <td>$95K - $152K (Employer est.)</td>\n",
       "      <td>Qualifications:\\n-10+ years experience with R,...</td>\n",
       "      <td>4.3</td>\n",
       "      <td>Infologitech\\n4.3</td>\n",
       "      <td>Remote</td>\n",
       "      <td>1 to 50 Employees</td>\n",
       "      <td>NaN</td>\n",
       "      <td>Company - Private</td>\n",
       "      <td>Information Technology Support Services</td>\n",
       "      <td>Information Technology</td>\n",
       "      <td>$1 to $5 million (USD)</td>\n",
       "    </tr>\n",
       "    <tr>\n",
       "      <th>3</th>\n",
       "      <td>3</td>\n",
       "      <td>Data Scientist</td>\n",
       "      <td>$95K - $152K (Employer est.)</td>\n",
       "      <td>Company Description\\n\\nWe’re a six-time “Best ...</td>\n",
       "      <td>3.8</td>\n",
       "      <td>Logic20/20 Inc.\\n3.8</td>\n",
       "      <td>Seattle, WA</td>\n",
       "      <td>201 to 500 Employees</td>\n",
       "      <td>2005.0</td>\n",
       "      <td>Company - Private</td>\n",
       "      <td>Business Consulting</td>\n",
       "      <td>Management &amp; Consulting</td>\n",
       "      <td>$25 to $50 million (USD)</td>\n",
       "    </tr>\n",
       "    <tr>\n",
       "      <th>4</th>\n",
       "      <td>4</td>\n",
       "      <td>Junior Data Scientist</td>\n",
       "      <td>$95K - $152K (Employer est.)</td>\n",
       "      <td>Responsibilities:\\nWork with stakeholders to d...</td>\n",
       "      <td>NaN</td>\n",
       "      <td>Talentheed Inc</td>\n",
       "      <td>Remote</td>\n",
       "      <td>NaN</td>\n",
       "      <td>NaN</td>\n",
       "      <td>NaN</td>\n",
       "      <td>NaN</td>\n",
       "      <td>NaN</td>\n",
       "      <td>NaN</td>\n",
       "    </tr>\n",
       "  </tbody>\n",
       "</table>\n",
       "</div>"
      ],
      "text/plain": [
       "   Unnamed: 0                          Job Title  \\\n",
       "0           0  BHJOB15656_16794 - Data Scientist   \n",
       "1           1                     Data Scientist   \n",
       "2           2                     Data Scientist   \n",
       "3           3                     Data Scientist   \n",
       "4           4              Junior Data Scientist   \n",
       "\n",
       "                Salary Estimate  \\\n",
       "0  $95K - $152K (Employer est.)   \n",
       "1  $95K - $152K (Employer est.)   \n",
       "2  $95K - $152K (Employer est.)   \n",
       "3  $95K - $152K (Employer est.)   \n",
       "4  $95K - $152K (Employer est.)   \n",
       "\n",
       "                                     Job Description  Rating  \\\n",
       "0  The recruitment team here at Myticas is lookin...     3.7   \n",
       "1  *will work ONSITE 2-3 days each week\\nThe data...     NaN   \n",
       "2  Qualifications:\\n-10+ years experience with R,...     4.3   \n",
       "3  Company Description\\n\\nWe’re a six-time “Best ...     3.8   \n",
       "4  Responsibilities:\\nWork with stakeholders to d...     NaN   \n",
       "\n",
       "              Company Name      Location                  Size  Founded  \\\n",
       "0  Myticas Consulting\\n3.7        Remote     1 to 50 Employees      NaN   \n",
       "1        Mint-Technologies  Richmond, VA     1 to 50 Employees      NaN   \n",
       "2        Infologitech\\n4.3        Remote     1 to 50 Employees      NaN   \n",
       "3     Logic20/20 Inc.\\n3.8   Seattle, WA  201 to 500 Employees   2005.0   \n",
       "4           Talentheed Inc        Remote                   NaN      NaN   \n",
       "\n",
       "   Type of ownership                                 Industry  \\\n",
       "0  Company - Private  Information Technology Support Services   \n",
       "1  Company - Private                                      NaN   \n",
       "2  Company - Private  Information Technology Support Services   \n",
       "3  Company - Private                      Business Consulting   \n",
       "4                NaN                                      NaN   \n",
       "\n",
       "                    Sector                   Revenue  \n",
       "0   Information Technology  Unknown / Non-Applicable  \n",
       "1                      NaN  Unknown / Non-Applicable  \n",
       "2   Information Technology    $1 to $5 million (USD)  \n",
       "3  Management & Consulting  $25 to $50 million (USD)  \n",
       "4                      NaN                       NaN  "
      ]
     },
     "execution_count": 15,
     "metadata": {},
     "output_type": "execute_result"
    }
   ],
   "source": [
    "data.head()"
   ]
  },
  {
   "cell_type": "code",
   "execution_count": 16,
   "metadata": {},
   "outputs": [
    {
     "data": {
      "text/plain": [
       "Index(['Unnamed: 0', 'Job Title', 'Salary Estimate', 'Job Description',\n",
       "       'Rating', 'Company Name', 'Location', 'Size', 'Founded',\n",
       "       'Type of ownership', 'Industry', 'Sector', 'Revenue'],\n",
       "      dtype='object')"
      ]
     },
     "execution_count": 16,
     "metadata": {},
     "output_type": "execute_result"
    }
   ],
   "source": [
    "data.columns"
   ]
  },
  {
   "cell_type": "code",
   "execution_count": 17,
   "metadata": {},
   "outputs": [
    {
     "data": {
      "text/plain": [
       "1000"
      ]
     },
     "execution_count": 17,
     "metadata": {},
     "output_type": "execute_result"
    }
   ],
   "source": [
    "len(data)"
   ]
  },
  {
   "cell_type": "code",
   "execution_count": null,
   "metadata": {},
   "outputs": [],
   "source": []
  }
 ],
 "metadata": {
  "kernelspec": {
   "display_name": "Python 3",
   "language": "python",
   "name": "python3"
  },
  "language_info": {
   "codemirror_mode": {
    "name": "ipython",
    "version": 3
   },
   "file_extension": ".py",
   "mimetype": "text/x-python",
   "name": "python",
   "nbconvert_exporter": "python",
   "pygments_lexer": "ipython3",
   "version": "3.8.5"
  }
 },
 "nbformat": 4,
 "nbformat_minor": 4
}
